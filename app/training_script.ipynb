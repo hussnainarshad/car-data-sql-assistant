{
 "cells": [
  {
   "cell_type": "code",
   "execution_count": 2,
   "metadata": {},
   "outputs": [],
   "source": [
    "from vanna.openai import OpenAI_Chat\n",
    "from vanna.chromadb import ChromaDB_VectorStore"
   ]
  },
  {
   "cell_type": "code",
   "execution_count": 3,
   "metadata": {},
   "outputs": [],
   "source": [
    "class MyVanna(ChromaDB_VectorStore, OpenAI_Chat):\n",
    "    def __init__(self, config=None):\n",
    "        ChromaDB_VectorStore.__init__(self, config=config)\n",
    "        OpenAI_Chat.__init__(self, config=config)\n",
    "\n",
    "vn = MyVanna(config={'api_key': 'xxxxxxxxxxxxxxxxxxxxxxxxxxx', 'model': 'gpt-4-turbo'})"
   ]
  },
  {
   "cell_type": "code",
   "execution_count": 5,
   "metadata": {},
   "outputs": [],
   "source": [
    "vn.connect_to_postgres(\n",
    "    host='localhost',  # Docker is exposing the database on the local machine\n",
    "    dbname='mydatabase',  # Set by POSTGRES_DB\n",
    "    user='user',  # Set by POSTGRES_USER\n",
    "    password='password',  # Set by POSTGRES_PASSWORD\n",
    "    port='5432'  # The port exposed by Docker\n",
    ")\n"
   ]
  },
  {
   "cell_type": "code",
   "execution_count": 6,
   "metadata": {},
   "outputs": [
    {
     "data": {
      "text/html": [
       "<div>\n",
       "<style scoped>\n",
       "    .dataframe tbody tr th:only-of-type {\n",
       "        vertical-align: middle;\n",
       "    }\n",
       "\n",
       "    .dataframe tbody tr th {\n",
       "        vertical-align: top;\n",
       "    }\n",
       "\n",
       "    .dataframe thead th {\n",
       "        text-align: right;\n",
       "    }\n",
       "</style>\n",
       "<table border=\"1\" class=\"dataframe\">\n",
       "  <thead>\n",
       "    <tr style=\"text-align: right;\">\n",
       "      <th></th>\n",
       "      <th>id</th>\n",
       "      <th>question</th>\n",
       "      <th>content</th>\n",
       "      <th>training_data_type</th>\n",
       "    </tr>\n",
       "  </thead>\n",
       "  <tbody>\n",
       "  </tbody>\n",
       "</table>\n",
       "</div>"
      ],
      "text/plain": [
       "Empty DataFrame\n",
       "Columns: [id, question, content, training_data_type]\n",
       "Index: []"
      ]
     },
     "execution_count": 6,
     "metadata": {},
     "output_type": "execute_result"
    }
   ],
   "source": [
    "vn.get_training_data()"
   ]
  },
  {
   "cell_type": "code",
   "execution_count": 9,
   "metadata": {},
   "outputs": [
    {
     "name": "stdout",
     "output_type": "stream",
     "text": [
      "Adding ddl: \n",
      "        CREATE TABLE \"cars_data\" (\n",
      "        \"ID\" INTEGER,\n",
      "        \"Make\" TEXT,\n",
      "        \"Model\" TEXT,\n",
      "        \"Year\" REAL,\n",
      "        \"Trim\" TEXT,\n",
      "        \"Trim (description)\" TEXT,\n",
      "        \"Base MSRP\" REAL,\n",
      "        \"Base Invoice\" REAL,\n",
      "        \"Colors exterior\" TEXT,\n",
      "        \"Colors interior\" TEXT,\n",
      "        \"Body type\" TEXT,\n",
      "        \"Doors\" REAL,\n",
      "        \"Total seating\" REAL,\n",
      "        \"Length (in)\" REAL,\n",
      "        \"Width (in)\" REAL,\n",
      "        \"Height (in)\" REAL,\n",
      "        \"Wheelbase (in)\" REAL,\n",
      "        \"Front track (in)\" REAL,\n",
      "        \"Rear track (in)\" REAL,\n",
      "        \"Ground clearance (in)\" REAL,\n",
      "        \"Angle of approach (degrees)\" REAL,\n",
      "        \"Angle of departure (degrees)\" REAL,\n",
      "        \"Turning circle (ft)\" REAL,\n",
      "        \"Drag coefficient (Cd)\" REAL,\n",
      "        \"EPA interior volume (cu ft)\" REAL,\n",
      "        \"Cargo capacity (cu ft)\" REAL,\n",
      "        \"Maximum cargo capacity (cu ft)\" REAL,\n",
      "        \"Curb weight (lbs)\" REAL,\n",
      "        \"Gross weight (lbs)\" REAL,\n",
      "        \"Maximum payload (lbs)\" REAL,\n",
      "        \"Maximum towing capacity (lbs)\" REAL,\n",
      "        \"Cylinders\" TEXT,\n",
      "        \"Engine size (l)\" REAL,\n",
      "        \"Horsepower (HP)\" REAL,\n",
      "        \"Horsepower (rpm)\" REAL,\n",
      "        \"Torque (ft-lbs)\" REAL,\n",
      "        \"Torque (rpm)\" REAL,\n",
      "        \"Valves\" REAL,\n",
      "        \"Valve timing\" TEXT,\n",
      "        \"Cam type\" TEXT,\n",
      "        \"Drive type\" TEXT,\n",
      "        \"Transmission\" TEXT,\n",
      "        \"Engine type\" TEXT,\n",
      "        \"Fuel type\" TEXT,\n",
      "        \"Fuel tank capacity (gal)\" REAL,\n",
      "        \"EPA combined MPG\" REAL,\n",
      "        \"EPA city/highway MPG\" TEXT,\n",
      "        \"Range in miles (city/hwy)\" TEXT,\n",
      "        \"EPA combined MPGe\" REAL,\n",
      "        \"EPA city/highway MPGe\" TEXT,\n",
      "        \"EPA electricity range (mi)\" REAL,\n",
      "        \"EPA kWh/100 mi\" REAL,\n",
      "        \"EPA time to charge battery (at 240V) (hr)\" REAL,\n",
      "        \"Battery capacity (kWh)\" REAL,\n",
      "        \"Front head room (in)\" REAL,\n",
      "        \"Front hip room (in)\" REAL,\n",
      "        \"Front leg room (in)\" REAL,\n",
      "        \"Front shoulder room (in)\" REAL,\n",
      "        \"Rear head room (in)\" REAL,\n",
      "        \"Rear hip room (in)\" REAL,\n",
      "        \"Rear leg room (in)\" REAL,\n",
      "        \"Rear shoulder room (in)\" REAL,\n",
      "        \"Basic\" TEXT,\n",
      "        \"Drivetrain\" TEXT,\n",
      "        \"Roadside assistance\" TEXT,\n",
      "        \"Rust\" TEXT,\n",
      "        \"Source JSON\" TEXT,\n",
      "        \"Source URL\" TEXT,\n",
      "        \"Image URL\" TEXT,\n",
      "        \"Review\" TEXT,\n",
      "        \"Pros\" TEXT,\n",
      "        \"Cons\" TEXT,\n",
      "        \"What's new\" TEXT,\n",
      "        \"NHTSA Overall Rating\" TEXT,\n",
      "        \"Used price range\" TEXT,\n",
      "        \"Scorecard Overall\" TEXT,\n",
      "        \"Scorecard Driving\" REAL,\n",
      "        \"Scorecard Confort\" REAL,\n",
      "        \"Scorecard Interior\" REAL,\n",
      "        \"Scorecard Utility\" REAL,\n",
      "        \"Scorecard Technology\" REAL,\n",
      "        \"Expert rating - Our verdict\" TEXT,\n",
      "        \"Expert rating - Performance\" TEXT,\n",
      "        \"Expert rating - Comfort\" TEXT,\n",
      "        \"Expert rating - Interior\" TEXT,\n",
      "        \"Expert rating - Technology\" TEXT,\n",
      "        \"Expert rating - Storage\" TEXT,\n",
      "        \"Expert rating - Fuel Economy\" TEXT,\n",
      "        \"Expert rating - Value\" TEXT,\n",
      "        \"Expert rating - Wildcard\" TEXT,\n",
      "        \"Old trim\" TEXT,\n",
      "        \"Old description\" TEXT,\n",
      "        \"Images URL\" TEXT,\n",
      "        \"Suspension\" TEXT,\n",
      "        \"Front seats\" TEXT,\n",
      "        \"Rear seats\" TEXT,\n",
      "        \"Power features\" TEXT,\n",
      "        \"Instrumentation\" TEXT,\n",
      "        \"Convenience\" TEXT,\n",
      "        \"Comfort\" TEXT,\n",
      "        \"Memorized settings\" TEXT,\n",
      "        \"In car entertainment\" TEXT,\n",
      "        \"Roof and glass\" TEXT,\n",
      "        \"Body\" TEXT,\n",
      "        \"Truck features\" TEXT,\n",
      "        \"Tires and wheels\" TEXT,\n",
      "        \"Doors.1\" TEXT,\n",
      "        \"Towing and hauling\" TEXT,\n",
      "        \"Safety features\" TEXT,\n",
      "        \"Packages\" TEXT,\n",
      "        \"Exterior options\" TEXT,\n",
      "        \"Interior options\" TEXT,\n",
      "        \"Mechanical options\" TEXT,\n",
      "        \"Country of origin\" TEXT,\n",
      "        \"Car classification\" TEXT,\n",
      "        \"Platform code / generation number\" TEXT\n",
      "        )\n",
      "\n"
     ]
    },
    {
     "name": "stderr",
     "output_type": "stream",
     "text": [
      "/home/hussnain/.cache/chroma/onnx_models/all-MiniLM-L6-v2/onnx.tar.gz: 100%|██████████| 79.3M/79.3M [03:45<00:00, 370kiB/s] \n"
     ]
    },
    {
     "data": {
      "text/plain": [
       "'1d831f6d-c54f-573e-b868-9ff29858f4b7-ddl'"
      ]
     },
     "execution_count": 9,
     "metadata": {},
     "output_type": "execute_result"
    }
   ],
   "source": [
    "# DDL statements are powerful because they specify table names, colume names, types, and potentially relationships\n",
    "vn.train(ddl=\"\"\"\n",
    "        CREATE TABLE \"cars_data\" (\n",
    "        \"ID\" INTEGER,\n",
    "        \"Make\" TEXT,\n",
    "        \"Model\" TEXT,\n",
    "        \"Year\" REAL,\n",
    "        \"Trim\" TEXT,\n",
    "        \"Trim (description)\" TEXT,\n",
    "        \"Base MSRP\" REAL,\n",
    "        \"Base Invoice\" REAL,\n",
    "        \"Colors exterior\" TEXT,\n",
    "        \"Colors interior\" TEXT,\n",
    "        \"Body type\" TEXT,\n",
    "        \"Doors\" REAL,\n",
    "        \"Total seating\" REAL,\n",
    "        \"Length (in)\" REAL,\n",
    "        \"Width (in)\" REAL,\n",
    "        \"Height (in)\" REAL,\n",
    "        \"Wheelbase (in)\" REAL,\n",
    "        \"Front track (in)\" REAL,\n",
    "        \"Rear track (in)\" REAL,\n",
    "        \"Ground clearance (in)\" REAL,\n",
    "        \"Angle of approach (degrees)\" REAL,\n",
    "        \"Angle of departure (degrees)\" REAL,\n",
    "        \"Turning circle (ft)\" REAL,\n",
    "        \"Drag coefficient (Cd)\" REAL,\n",
    "        \"EPA interior volume (cu ft)\" REAL,\n",
    "        \"Cargo capacity (cu ft)\" REAL,\n",
    "        \"Maximum cargo capacity (cu ft)\" REAL,\n",
    "        \"Curb weight (lbs)\" REAL,\n",
    "        \"Gross weight (lbs)\" REAL,\n",
    "        \"Maximum payload (lbs)\" REAL,\n",
    "        \"Maximum towing capacity (lbs)\" REAL,\n",
    "        \"Cylinders\" TEXT,\n",
    "        \"Engine size (l)\" REAL,\n",
    "        \"Horsepower (HP)\" REAL,\n",
    "        \"Horsepower (rpm)\" REAL,\n",
    "        \"Torque (ft-lbs)\" REAL,\n",
    "        \"Torque (rpm)\" REAL,\n",
    "        \"Valves\" REAL,\n",
    "        \"Valve timing\" TEXT,\n",
    "        \"Cam type\" TEXT,\n",
    "        \"Drive type\" TEXT,\n",
    "        \"Transmission\" TEXT,\n",
    "        \"Engine type\" TEXT,\n",
    "        \"Fuel type\" TEXT,\n",
    "        \"Fuel tank capacity (gal)\" REAL,\n",
    "        \"EPA combined MPG\" REAL,\n",
    "        \"EPA city/highway MPG\" TEXT,\n",
    "        \"Range in miles (city/hwy)\" TEXT,\n",
    "        \"EPA combined MPGe\" REAL,\n",
    "        \"EPA city/highway MPGe\" TEXT,\n",
    "        \"EPA electricity range (mi)\" REAL,\n",
    "        \"EPA kWh/100 mi\" REAL,\n",
    "        \"EPA time to charge battery (at 240V) (hr)\" REAL,\n",
    "        \"Battery capacity (kWh)\" REAL,\n",
    "        \"Front head room (in)\" REAL,\n",
    "        \"Front hip room (in)\" REAL,\n",
    "        \"Front leg room (in)\" REAL,\n",
    "        \"Front shoulder room (in)\" REAL,\n",
    "        \"Rear head room (in)\" REAL,\n",
    "        \"Rear hip room (in)\" REAL,\n",
    "        \"Rear leg room (in)\" REAL,\n",
    "        \"Rear shoulder room (in)\" REAL,\n",
    "        \"Basic\" TEXT,\n",
    "        \"Drivetrain\" TEXT,\n",
    "        \"Roadside assistance\" TEXT,\n",
    "        \"Rust\" TEXT,\n",
    "        \"Source JSON\" TEXT,\n",
    "        \"Source URL\" TEXT,\n",
    "        \"Image URL\" TEXT,\n",
    "        \"Review\" TEXT,\n",
    "        \"Pros\" TEXT,\n",
    "        \"Cons\" TEXT,\n",
    "        \"What's new\" TEXT,\n",
    "        \"NHTSA Overall Rating\" TEXT,\n",
    "        \"Used price range\" TEXT,\n",
    "        \"Scorecard Overall\" TEXT,\n",
    "        \"Scorecard Driving\" REAL,\n",
    "        \"Scorecard Confort\" REAL,\n",
    "        \"Scorecard Interior\" REAL,\n",
    "        \"Scorecard Utility\" REAL,\n",
    "        \"Scorecard Technology\" REAL,\n",
    "        \"Expert rating - Our verdict\" TEXT,\n",
    "        \"Expert rating - Performance\" TEXT,\n",
    "        \"Expert rating - Comfort\" TEXT,\n",
    "        \"Expert rating - Interior\" TEXT,\n",
    "        \"Expert rating - Technology\" TEXT,\n",
    "        \"Expert rating - Storage\" TEXT,\n",
    "        \"Expert rating - Fuel Economy\" TEXT,\n",
    "        \"Expert rating - Value\" TEXT,\n",
    "        \"Expert rating - Wildcard\" TEXT,\n",
    "        \"Old trim\" TEXT,\n",
    "        \"Old description\" TEXT,\n",
    "        \"Images URL\" TEXT,\n",
    "        \"Suspension\" TEXT,\n",
    "        \"Front seats\" TEXT,\n",
    "        \"Rear seats\" TEXT,\n",
    "        \"Power features\" TEXT,\n",
    "        \"Instrumentation\" TEXT,\n",
    "        \"Convenience\" TEXT,\n",
    "        \"Comfort\" TEXT,\n",
    "        \"Memorized settings\" TEXT,\n",
    "        \"In car entertainment\" TEXT,\n",
    "        \"Roof and glass\" TEXT,\n",
    "        \"Body\" TEXT,\n",
    "        \"Truck features\" TEXT,\n",
    "        \"Tires and wheels\" TEXT,\n",
    "        \"Doors.1\" TEXT,\n",
    "        \"Towing and hauling\" TEXT,\n",
    "        \"Safety features\" TEXT,\n",
    "        \"Packages\" TEXT,\n",
    "        \"Exterior options\" TEXT,\n",
    "        \"Interior options\" TEXT,\n",
    "        \"Mechanical options\" TEXT,\n",
    "        \"Country of origin\" TEXT,\n",
    "        \"Car classification\" TEXT,\n",
    "        \"Platform code / generation number\" TEXT\n",
    "        )\n",
    "\"\"\")"
   ]
  },
  {
   "cell_type": "code",
   "execution_count": 10,
   "metadata": {},
   "outputs": [
    {
     "data": {
      "text/plain": [
       "'69dc9d5f-58b7-5416-85b8-b257862b2752-sql'"
      ]
     },
     "execution_count": 10,
     "metadata": {},
     "output_type": "execute_result"
    }
   ],
   "source": [
    "vn.train(question='''What are the different car makes in the dataset?'''   ,\n",
    "         sql='''SELECT DISTINCT \"Make\" FROM cars_data;''')"
   ]
  },
  {
   "cell_type": "code",
   "execution_count": 11,
   "metadata": {},
   "outputs": [
    {
     "data": {
      "text/plain": [
       "'59a1827f-92b0-5782-b2ed-8206d8c4f33c-sql'"
      ]
     },
     "execution_count": 11,
     "metadata": {},
     "output_type": "execute_result"
    }
   ],
   "source": [
    "vn.train(question='''How many cars are available for each make?'''   ,\n",
    "         sql='''SELECT \"Make\", COUNT(*) AS count FROM cars_data GROUP BY \"Make\";''')"
   ]
  },
  {
   "cell_type": "code",
   "execution_count": 12,
   "metadata": {},
   "outputs": [
    {
     "data": {
      "text/plain": [
       "'213c6247-a37f-580e-b601-ad998d2c2b6b-sql'"
      ]
     },
     "execution_count": 12,
     "metadata": {},
     "output_type": "execute_result"
    }
   ],
   "source": [
    "vn.train(question='''Which are the top 5 most expensive cars by base MSRP?'''   ,\n",
    "         sql='''SELECT \"Make\", \"Model\", \"Year\", \"Base MSRP\" FROM cars_data ORDER BY \"Base MSRP\" DESC LIMIT 5;''')"
   ]
  },
  {
   "cell_type": "code",
   "execution_count": 13,
   "metadata": {},
   "outputs": [
    {
     "data": {
      "text/plain": [
       "'af21e5c9-d2f8-5f01-9c78-4c0236abb5a8-sql'"
      ]
     },
     "execution_count": 13,
     "metadata": {},
     "output_type": "execute_result"
    }
   ],
   "source": [
    "vn.train(question='''Which cars have a towing capacity greater than 5,000 lbs?'''   ,\n",
    "         sql='''SELECT \"Make\", \"Model\", \"Year\", \"Maximum towing capacity (lbs)\" FROM cars_data WHERE \"Maximum towing capacity (lbs)\" > 5000;''')"
   ]
  },
  {
   "cell_type": "code",
   "execution_count": 14,
   "metadata": {},
   "outputs": [
    {
     "data": {
      "text/plain": [
       "'16dda0f8-fbaf-5800-83eb-b100ae7a5722-sql'"
      ]
     },
     "execution_count": 14,
     "metadata": {},
     "output_type": "execute_result"
    }
   ],
   "source": [
    "vn.train(question='''What is the average horsepower of cars for each make?'''   ,\n",
    "         sql='''SELECT \"Make\", AVG(\"Horsepower (HP)\") AS avg_hp FROM cars_data GROUP BY \"Make\";''')"
   ]
  },
  {
   "cell_type": "code",
   "execution_count": 15,
   "metadata": {},
   "outputs": [
    {
     "data": {
      "text/plain": [
       "'c79eae7b-9e97-50b8-8d85-c95f6ed83339-sql'"
      ]
     },
     "execution_count": 15,
     "metadata": {},
     "output_type": "execute_result"
    }
   ],
   "source": [
    "vn.train(question='''Which cars have 4 doors and a total seating capacity of 5 or more?'''   ,\n",
    "         sql='''SELECT \"Make\", \"Model\", \"Year\", \"Doors\", \"Total seating\" FROM cars_data WHERE \"Doors\" = 4 AND \"Total seating\" >= 5;''')"
   ]
  },
  {
   "cell_type": "code",
   "execution_count": 16,
   "metadata": {},
   "outputs": [
    {
     "data": {
      "text/plain": [
       "'dc2a8f7c-61f3-57a9-b943-8cd12b3f7e65-sql'"
      ]
     },
     "execution_count": 16,
     "metadata": {},
     "output_type": "execute_result"
    }
   ],
   "source": [
    "vn.train(question='''Which cars have a drag coefficient lower than 0.30?'''   ,\n",
    "         sql='''SELECT \"Make\", \"Model\", \"Year\", \"Drag coefficient (Cd)\" FROM cars_data WHERE \"Drag coefficient (Cd)\" < 0.30;''')"
   ]
  },
  {
   "cell_type": "code",
   "execution_count": 17,
   "metadata": {},
   "outputs": [
    {
     "data": {
      "text/plain": [
       "'6db7a29e-0c44-529a-8ed9-7285e999d194-sql'"
      ]
     },
     "execution_count": 17,
     "metadata": {},
     "output_type": "execute_result"
    }
   ],
   "source": [
    "vn.train(question='''How many cars are available by each fuel type?'''   ,\n",
    "         sql='''SELECT \"Fuel type\", COUNT(*) AS count FROM cars_data GROUP BY \"Fuel type\";''')"
   ]
  },
  {
   "cell_type": "code",
   "execution_count": 18,
   "metadata": {},
   "outputs": [
    {
     "data": {
      "text/plain": [
       "'8a711070-d94f-5fc4-8e4f-d2a8371970d3-sql'"
      ]
     },
     "execution_count": 18,
     "metadata": {},
     "output_type": "execute_result"
    }
   ],
   "source": [
    "vn.train(question='''Which are the top 10 cars with the highest cargo capacity?'''   ,\n",
    "         sql='''SELECT \"Make\", \"Model\", \"Cargo capacity (cu ft)\" FROM cars_data ORDER BY \"Cargo capacity (cu ft)\" DESC LIMIT 10;''')"
   ]
  },
  {
   "cell_type": "code",
   "execution_count": 19,
   "metadata": {},
   "outputs": [
    {
     "data": {
      "text/plain": [
       "'724c39e4-12da-5717-8e50-a06cdff05867-sql'"
      ]
     },
     "execution_count": 19,
     "metadata": {},
     "output_type": "execute_result"
    }
   ],
   "source": [
    "vn.train(question='''Which cars have a wheelbase greater than 120 inches?'''   ,\n",
    "         sql='''SELECT \"Make\", \"Model\", \"Year\", \"Wheelbase (in)\" FROM cars_data WHERE \"Wheelbase (in)\" > 120;''')"
   ]
  },
  {
   "cell_type": "code",
   "execution_count": 20,
   "metadata": {},
   "outputs": [
    {
     "data": {
      "text/plain": [
       "'dd9e1abc-e08f-596a-b8c1-9fa3d21ef9f2-sql'"
      ]
     },
     "execution_count": 20,
     "metadata": {},
     "output_type": "execute_result"
    }
   ],
   "source": [
    "vn.train(question='''What is the average combined MPG for each fuel type?'''   ,\n",
    "         sql='''SELECT \"Fuel type\", AVG(\"EPA combined MPG\") AS avg_mpg FROM cars_data GROUP BY \"Fuel type\";''')"
   ]
  },
  {
   "cell_type": "code",
   "execution_count": 21,
   "metadata": {},
   "outputs": [
    {
     "data": {
      "text/plain": [
       "'1205a3c8-cb18-5dd9-978c-b40b7029ec16-sql'"
      ]
     },
     "execution_count": 21,
     "metadata": {},
     "output_type": "execute_result"
    }
   ],
   "source": [
    "vn.train(question='''How many cars are available for each type of transmission?'''   ,\n",
    "         sql='''SELECT \"Transmission\", COUNT(*) AS count FROM cars_data GROUP BY \"Transmission\";''')"
   ]
  },
  {
   "cell_type": "code",
   "execution_count": 22,
   "metadata": {},
   "outputs": [
    {
     "data": {
      "text/plain": [
       "'e143bb8b-5d27-52a5-b10c-d84c571f16eb-sql'"
      ]
     },
     "execution_count": 22,
     "metadata": {},
     "output_type": "execute_result"
    }
   ],
   "source": [
    "vn.train(question='''Which cars have an EPA electricity range greater than 100 miles?'''   ,\n",
    "         sql='''SELECT \"Make\", \"Model\", \"Year\", \"EPA electricity range (mi)\" FROM cars_data WHERE \"EPA electricity range (mi)\" > 100;''')"
   ]
  },
  {
   "cell_type": "code",
   "execution_count": 23,
   "metadata": {},
   "outputs": [
    {
     "data": {
      "text/plain": [
       "'15b2dd13-4b81-5f51-aec9-a4774573a924-sql'"
      ]
     },
     "execution_count": 23,
     "metadata": {},
     "output_type": "execute_result"
    }
   ],
   "source": [
    "vn.train(question='''Which cars have a ground clearance of more than 8 inches?'''   ,\n",
    "         sql='''SELECT \"Make\", \"Model\", \"Year\", \"Ground clearance (in)\" FROM cars_data WHERE \"Ground clearance (in)\" > 8;''')"
   ]
  },
  {
   "cell_type": "code",
   "execution_count": 24,
   "metadata": {},
   "outputs": [
    {
     "data": {
      "text/plain": [
       "'b2f73bf1-9f68-5902-9d73-eabf69e37cfd-sql'"
      ]
     },
     "execution_count": 24,
     "metadata": {},
     "output_type": "execute_result"
    }
   ],
   "source": [
    "vn.train(question='''Which cars have more than 8 cylinders?'''   ,\n",
    "         sql='''SELECT \"Make\", \"Model\", \"Year\", \"Cylinders\" FROM cars_data WHERE \"Cylinders\" > '8';''')"
   ]
  },
  {
   "cell_type": "code",
   "execution_count": 25,
   "metadata": {},
   "outputs": [
    {
     "data": {
      "text/plain": [
       "'814579eb-2856-598b-8546-021561c814f9-sql'"
      ]
     },
     "execution_count": 25,
     "metadata": {},
     "output_type": "execute_result"
    }
   ],
   "source": [
    "vn.train(question='''What are the top 5 cars with the best NHTSA Overall Rating?'''   ,\n",
    "         sql='''SELECT \"Make\", \"Model\", \"Year\", \"NHTSA Overall Rating\" FROM cars_data WHERE \"NHTSA Overall Rating\" IS NOT NULL ORDER BY \"NHTSA Overall Rating\" DESC LIMIT 5;''')"
   ]
  },
  {
   "cell_type": "code",
   "execution_count": 26,
   "metadata": {},
   "outputs": [
    {
     "data": {
      "text/plain": [
       "'6097959e-486f-5f98-bc07-b7a303b42492-sql'"
      ]
     },
     "execution_count": 26,
     "metadata": {},
     "output_type": "execute_result"
    }
   ],
   "source": [
    "vn.train(question='''Which cars have a maximum payload of more than 2,000 lbs?'''   ,\n",
    "         sql='''SELECT \"Make\", \"Model\", \"Year\", \"Maximum payload (lbs)\" FROM cars_data WHERE \"Maximum payload (lbs)\" > 2000;''')"
   ]
  },
  {
   "cell_type": "code",
   "execution_count": 27,
   "metadata": {},
   "outputs": [
    {
     "data": {
      "text/plain": [
       "'30fff7de-0219-5cbe-ad08-3c1bc480d476-sql'"
      ]
     },
     "execution_count": 27,
     "metadata": {},
     "output_type": "execute_result"
    }
   ],
   "source": [
    "vn.train(question='''Which cars have the highest expert rating for performance?'''   ,\n",
    "         sql='''SELECT \"Make\", \"Model\", \"Year\", \"Expert rating - Performance\" FROM cars_data ORDER BY \"Expert rating - Performance\" DESC LIMIT 5;''')"
   ]
  },
  {
   "cell_type": "code",
   "execution_count": 28,
   "metadata": {},
   "outputs": [
    {
     "data": {
      "text/plain": [
       "'9ad75915-d3f1-5acd-8275-3c517e2a548e-sql'"
      ]
     },
     "execution_count": 28,
     "metadata": {},
     "output_type": "execute_result"
    }
   ],
   "source": [
    "vn.train(question='''Which cars have a base MSRP less than $30,000?'''   ,\n",
    "         sql='''SELECT \"Make\", \"Model\", \"Year\", \"Base MSRP\" FROM cars_data WHERE \"Base MSRP\" < 30000;''')"
   ]
  },
  {
   "cell_type": "code",
   "execution_count": 29,
   "metadata": {},
   "outputs": [
    {
     "data": {
      "text/plain": [
       "'aa0d32aa-d530-5723-a47f-742ea35609fa-sql'"
      ]
     },
     "execution_count": 29,
     "metadata": {},
     "output_type": "execute_result"
    }
   ],
   "source": [
    "vn.train(question='''Which cars have a turning circle of less than 35 feet?'''   ,\n",
    "         sql='''SELECT \"Make\", \"Model\", \"Year\", \"Turning circle (ft)\" FROM cars_data WHERE \"Turning circle (ft)\" < 35;''')"
   ]
  },
  {
   "cell_type": "code",
   "execution_count": 30,
   "metadata": {},
   "outputs": [
    {
     "data": {
      "text/plain": [
       "'59afde13-feb2-5ab3-b7ca-4d8a9fe161e3-sql'"
      ]
     },
     "execution_count": 30,
     "metadata": {},
     "output_type": "execute_result"
    }
   ],
   "source": [
    "vn.train(question='''What is the average curb weight for each body type?'''   ,\n",
    "         sql='''SELECT \"Body type\", AVG(\"Curb weight (lbs)\") AS avg_weight FROM cars_data GROUP BY \"Body type\";''')"
   ]
  },
  {
   "cell_type": "code",
   "execution_count": 31,
   "metadata": {},
   "outputs": [
    {
     "data": {
      "text/plain": [
       "'dc9a09b0-dfe4-5fa2-9a05-ab80c322f163-sql'"
      ]
     },
     "execution_count": 31,
     "metadata": {},
     "output_type": "execute_result"
    }
   ],
   "source": [
    "vn.train(question='''Which cars have over 300 horsepower?'''   ,\n",
    "         sql='''SELECT \"Make\", \"Model\", \"Year\", \"Horsepower (HP)\" FROM cars_data WHERE \"Horsepower (HP)\" > 300;''')"
   ]
  },
  {
   "cell_type": "code",
   "execution_count": 32,
   "metadata": {},
   "outputs": [
    {
     "data": {
      "text/plain": [
       "'431b96ce-d474-528e-943a-b887768d0aac-sql'"
      ]
     },
     "execution_count": 32,
     "metadata": {},
     "output_type": "execute_result"
    }
   ],
   "source": [
    "vn.train(question='''Which cars have more than 5 years of basic warranty?'''   ,\n",
    "         sql='''SELECT \"Make\", \"Model\", \"Year\", \"Basic\" FROM cars_data WHERE \"Basic\" > '5 years';''')"
   ]
  },
  {
   "cell_type": "code",
   "execution_count": 33,
   "metadata": {},
   "outputs": [
    {
     "data": {
      "text/plain": [
       "'aff7e656-81d5-53b4-91eb-8289bc509674-sql'"
      ]
     },
     "execution_count": 33,
     "metadata": {},
     "output_type": "execute_result"
    }
   ],
   "source": [
    "vn.train(question='''Which cars have a base invoice between $20,000 and $40,000?'''   ,\n",
    "         sql='''SELECT \"Make\", \"Model\", \"Year\", \"Base Invoice\" FROM cars_data WHERE \"Base Invoice\" BETWEEN 20000 AND 40000;''')"
   ]
  },
  {
   "cell_type": "code",
   "execution_count": 34,
   "metadata": {},
   "outputs": [
    {
     "data": {
      "text/plain": [
       "'5fee94a5-8f1a-5054-937b-4a3c604b6d62-sql'"
      ]
     },
     "execution_count": 34,
     "metadata": {},
     "output_type": "execute_result"
    }
   ],
   "source": [
    "vn.train(question='''Which cars have front headroom greater than 40 inches?'''   ,\n",
    "         sql='''SELECT \"Make\", \"Model\", \"Year\", \"Front head room (in)\" FROM cars_data WHERE \"Front head room (in)\" > 40;''')"
   ]
  },
  {
   "cell_type": "code",
   "execution_count": 35,
   "metadata": {},
   "outputs": [
    {
     "data": {
      "text/plain": [
       "'c90a025e-a27b-556d-841a-601d3643a57f-sql'"
      ]
     },
     "execution_count": 35,
     "metadata": {},
     "output_type": "execute_result"
    }
   ],
   "source": [
    "vn.train(question='''What are the top 10 cars with the highest horsepower-to-weight ratio?'''   ,\n",
    "         sql='''SELECT \"Make\", \"Model\", \"Year\", \"Horsepower (HP)\", \"Curb weight (lbs)\", (\"Horsepower (HP)\" / \"Curb weight (lbs)\") AS hp_to_weight FROM cars_data ORDER BY hp_to_weight DESC LIMIT 10;''')"
   ]
  },
  {
   "cell_type": "code",
   "execution_count": 36,
   "metadata": {},
   "outputs": [
    {
     "data": {
      "text/plain": [
       "'c6a2bfbb-0565-5656-969c-2ac577e31ba7-sql'"
      ]
     },
     "execution_count": 36,
     "metadata": {},
     "output_type": "execute_result"
    }
   ],
   "source": [
    "vn.train(question='''Which cars have rear legroom greater than 40 inches?'''   ,\n",
    "         sql='''SELECT \"Make\", \"Model\", \"Year\", \"Rear leg room (in)\" FROM cars_data WHERE \"Rear leg room (in)\" > 40;''')"
   ]
  },
  {
   "cell_type": "code",
   "execution_count": 37,
   "metadata": {},
   "outputs": [
    {
     "data": {
      "text/plain": [
       "'c33a4d3a-53e8-50ad-a76f-1d5124c31cab-sql'"
      ]
     },
     "execution_count": 37,
     "metadata": {},
     "output_type": "execute_result"
    }
   ],
   "source": [
    "vn.train(question='''Which cars have city MPG greater than 30?'''   ,\n",
    "         sql='''SELECT \"Make\", \"Model\", \"Year\", \"EPA city/highway MPG\" FROM cars_data WHERE CAST(SPLIT_PART(\"EPA city/highway MPG\", '/', 1) AS INTEGER) > 30;''')"
   ]
  },
  {
   "cell_type": "code",
   "execution_count": 38,
   "metadata": {},
   "outputs": [
    {
     "data": {
      "text/plain": [
       "'b435a39e-4746-55ee-a393-9775a543f215-sql'"
      ]
     },
     "execution_count": 38,
     "metadata": {},
     "output_type": "execute_result"
    }
   ],
   "source": [
    "vn.train(question='''Which cars were made after the year 2018?'''   ,\n",
    "         sql='''SELECT \"Make\", \"Model\", \"Year\" FROM cars_data WHERE \"Year\" > 2018;''')"
   ]
  },
  {
   "cell_type": "code",
   "execution_count": 39,
   "metadata": {},
   "outputs": [
    {
     "data": {
      "text/plain": [
       "'aa223cec-b4e9-5fb8-b905-1e40d4b92c9c-sql'"
      ]
     },
     "execution_count": 39,
     "metadata": {},
     "output_type": "execute_result"
    }
   ],
   "source": [
    "vn.train(question='''What are all the BMW models available in the dataset?'''   ,\n",
    "         sql='''SELECT \"Model\", \"Year\" FROM cars_data WHERE \"Make\" = 'BMW';''')"
   ]
  },
  {
   "cell_type": "code",
   "execution_count": 40,
   "metadata": {},
   "outputs": [
    {
     "data": {
      "text/plain": [
       "'338f2e31-c049-5703-b835-b385d79d83b3-sql'"
      ]
     },
     "execution_count": 40,
     "metadata": {},
     "output_type": "execute_result"
    }
   ],
   "source": [
    "vn.train(question='''What is the average horsepower for BMW, Ford, and Toyota cars?'''   ,\n",
    "         sql='''\n",
    "            SELECT \"Make\", AVG(\"Horsepower (HP)\") AS avg_hp \n",
    "            FROM cars_data \n",
    "            WHERE \"Make\" IN ('BMW', 'Ford', 'Toyota') \n",
    "            GROUP BY \"Make\";\n",
    "            ''')"
   ]
  },
  {
   "cell_type": "code",
   "execution_count": 41,
   "metadata": {},
   "outputs": [
    {
     "data": {
      "text/plain": [
       "'93339f39-4248-5263-bd27-f4e2de9c9ebe-sql'"
      ]
     },
     "execution_count": 41,
     "metadata": {},
     "output_type": "execute_result"
    }
   ],
   "source": [
    "vn.train(question='''Which model has the highest MSRP for BMW, Ford, and Toyota?'''   ,\n",
    "         sql='''\n",
    "            SELECT \"Make\", \"Model\", MAX(\"Base MSRP\") AS max_msrp\n",
    "            FROM cars_data\n",
    "            WHERE \"Make\" IN ('BMW', 'Ford', 'Toyota')\n",
    "            GROUP BY \"Make\", \"Model\"\n",
    "            ORDER BY max_msrp DESC;\n",
    "            ''')"
   ]
  },
  {
   "cell_type": "code",
   "execution_count": 42,
   "metadata": {},
   "outputs": [
    {
     "data": {
      "text/plain": [
       "'c94f00a0-af85-57d1-a52c-8bb09c085e2e-sql'"
      ]
     },
     "execution_count": 42,
     "metadata": {},
     "output_type": "execute_result"
    }
   ],
   "source": [
    "vn.train(question='''What is the average fuel tank capacity for BMW, Ford, and Toyota?'''   ,\n",
    "         sql='''\n",
    "            SELECT \"Make\", AVG(\"Fuel tank capacity (gal)\") AS avg_fuel_tank\n",
    "            FROM cars_data\n",
    "            WHERE \"Make\" IN ('BMW', 'Ford', 'Toyota')\n",
    "            GROUP BY \"Make\";\n",
    "            ''')"
   ]
  },
  {
   "cell_type": "code",
   "execution_count": 43,
   "metadata": {},
   "outputs": [
    {
     "data": {
      "text/plain": [
       "'4f3cac26-a332-571c-bfc4-d2d38e86442a-sql'"
      ]
     },
     "execution_count": 43,
     "metadata": {},
     "output_type": "execute_result"
    }
   ],
   "source": [
    "vn.train(question='''What is the average curb weight for BMW, Ford, and Toyota cars?'''   ,\n",
    "         sql='''\n",
    "            SELECT \"Make\", AVG(\"Curb weight (lbs)\") AS avg_curb_weight\n",
    "            FROM cars_data\n",
    "            WHERE \"Make\" IN ('BMW', 'Ford', 'Toyota')\n",
    "            GROUP BY \"Make\";\n",
    "            ''')"
   ]
  },
  {
   "cell_type": "code",
   "execution_count": 44,
   "metadata": {},
   "outputs": [
    {
     "data": {
      "text/plain": [
       "'48c48fe8-625c-5060-adbb-dabb1c448a73-sql'"
      ]
     },
     "execution_count": 44,
     "metadata": {},
     "output_type": "execute_result"
    }
   ],
   "source": [
    "vn.train(question='''How many Ford models have 4 doors?'''   ,\n",
    "         sql='''\n",
    "            SELECT COUNT(*) AS ford_4_doors_count\n",
    "            FROM cars_data\n",
    "            WHERE \"Make\" = 'Ford' AND \"Doors\" = 4;\n",
    "            ''')"
   ]
  },
  {
   "cell_type": "code",
   "execution_count": 45,
   "metadata": {},
   "outputs": [
    {
     "data": {
      "text/plain": [
       "'e6ab6876-9624-54f2-8913-7e8e2feb6856-sql'"
      ]
     },
     "execution_count": 45,
     "metadata": {},
     "output_type": "execute_result"
    }
   ],
   "source": [
    "vn.train(question='''Which BMW models have more than 300 horsepower?'''   ,\n",
    "         sql='''\n",
    "            SELECT \"Model\", \"Year\", \"Horsepower (HP)\"\n",
    "            FROM cars_data\n",
    "            WHERE \"Make\" = 'BMW' AND \"Horsepower (HP)\" > 300;\n",
    "            ''')"
   ]
  },
  {
   "cell_type": "code",
   "execution_count": 46,
   "metadata": {},
   "outputs": [
    {
     "data": {
      "text/plain": [
       "'82f49aec-1fb4-50b2-a560-fa676b2886c3-sql'"
      ]
     },
     "execution_count": 46,
     "metadata": {},
     "output_type": "execute_result"
    }
   ],
   "source": [
    "vn.train(question='''What is the highest cargo capacity for BMW, Ford, and Toyota cars?'''   ,\n",
    "         sql='''\n",
    "            SELECT \"Make\", MAX(\"Cargo capacity (cu ft)\") AS max_cargo_capacity\n",
    "            FROM cars_data\n",
    "            WHERE \"Make\" IN ('BMW', 'Ford', 'Toyota')\n",
    "            GROUP BY \"Make\";\n",
    "            ''')"
   ]
  },
  {
   "cell_type": "code",
   "execution_count": 47,
   "metadata": {},
   "outputs": [
    {
     "data": {
      "text/plain": [
       "'781b351c-4651-5df4-bcec-f6b1cd3ea3bd-sql'"
      ]
     },
     "execution_count": 47,
     "metadata": {},
     "output_type": "execute_result"
    }
   ],
   "source": [
    "vn.train(question='''Find the model with the lowest drag coefficient for each of the three makes?'''   ,\n",
    "         sql='''\n",
    "            SELECT \"Make\", \"Model\", MIN(\"Drag coefficient (Cd)\") AS min_drag\n",
    "            FROM cars_data\n",
    "            WHERE \"Make\" IN ('BMW', 'Ford', 'Toyota')\n",
    "            GROUP BY \"Make\", \"Model\"\n",
    "            ORDER BY min_drag ASC;\n",
    "            ''')"
   ]
  },
  {
   "cell_type": "code",
   "execution_count": 48,
   "metadata": {},
   "outputs": [
    {
     "data": {
      "text/plain": [
       "'e61ab593-9d6b-5782-ba79-c788fc02ce45-sql'"
      ]
     },
     "execution_count": 48,
     "metadata": {},
     "output_type": "execute_result"
    }
   ],
   "source": [
    "vn.train(question='''What is the average EPA combined MPG for BMW, Ford, and Toyota cars?'''   ,\n",
    "         sql='''\n",
    "            SELECT \"Make\", AVG(\"EPA combined MPG\") AS avg_combined_mpg\n",
    "            FROM cars_data\n",
    "            WHERE \"Make\" IN ('BMW', 'Ford', 'Toyota')\n",
    "            GROUP BY \"Make\";\n",
    "            ''')"
   ]
  },
  {
   "cell_type": "code",
   "execution_count": 49,
   "metadata": {},
   "outputs": [
    {
     "data": {
      "text/plain": [
       "'f30df293-590c-532b-a5f7-7f3ef45f9394-sql'"
      ]
     },
     "execution_count": 49,
     "metadata": {},
     "output_type": "execute_result"
    }
   ],
   "source": [
    "vn.train(question='''Which Toyota models have a towing capacity greater than 5,000 lbs?'''   ,\n",
    "         sql='''\n",
    "            SELECT \"Model\", \"Year\", \"Maximum towing capacity (lbs)\"\n",
    "            FROM cars_data\n",
    "            WHERE \"Make\" = 'Toyota' AND \"Maximum towing capacity (lbs)\" > 5000;\n",
    "            ''')"
   ]
  },
  {
   "cell_type": "code",
   "execution_count": 50,
   "metadata": {},
   "outputs": [
    {
     "data": {
      "text/plain": [
       "'5d2e6734-55bb-516a-a0ce-e30cc8eed5af-sql'"
      ]
     },
     "execution_count": 50,
     "metadata": {},
     "output_type": "execute_result"
    }
   ],
   "source": [
    "vn.train(question='''How many models from BMW, Ford, and Toyota have an expert performance rating of 9 or higher?'''   ,\n",
    "         sql='''\n",
    "            SELECT \"Make\", COUNT(*) AS count_high_perf_rating\n",
    "            FROM cars_data\n",
    "            WHERE \"Make\" IN ('BMW', 'Ford', 'Toyota') AND \"Expert rating - Performance\" >= '9'\n",
    "            GROUP BY \"Make\";\n",
    "            ''')"
   ]
  },
  {
   "cell_type": "code",
   "execution_count": 51,
   "metadata": {},
   "outputs": [
    {
     "data": {
      "text/plain": [
       "'c8147afe-6316-5eea-8c78-935bd73aecf3-sql'"
      ]
     },
     "execution_count": 51,
     "metadata": {},
     "output_type": "execute_result"
    }
   ],
   "source": [
    "vn.train(question='''Which Ford model has the largest ground clearance?'''   ,\n",
    "         sql='''\n",
    "            SELECT \"Model\", \"Year\", \"Ground clearance (in)\"\n",
    "            FROM cars_data\n",
    "            WHERE \"Make\" = 'Ford'\n",
    "            ORDER BY \"Ground clearance (in)\" DESC LIMIT 1;\n",
    "            ''')"
   ]
  },
  {
   "cell_type": "code",
   "execution_count": 52,
   "metadata": {},
   "outputs": [
    {
     "data": {
      "text/plain": [
       "'9af88a3e-e146-596c-8e65-2f3b308dac58-sql'"
      ]
     },
     "execution_count": 52,
     "metadata": {},
     "output_type": "execute_result"
    }
   ],
   "source": [
    "vn.train(question='''Which models from BMW, Ford, and Toyota have rear legroom greater than 40 inches?'''   ,\n",
    "         sql='''\n",
    "            SELECT \"Make\", \"Model\", \"Year\", \"Rear leg room (in)\"\n",
    "            FROM cars_data\n",
    "            WHERE \"Make\" IN ('BMW', 'Ford', 'Toyota') AND \"Rear leg room (in)\" > 40;\n",
    "            ''')"
   ]
  },
  {
   "cell_type": "code",
   "execution_count": 53,
   "metadata": {},
   "outputs": [
    {
     "data": {
      "text/plain": [
       "'5b75f4ac-cb62-580e-9ca2-ee3c27ae9e6b-sql'"
      ]
     },
     "execution_count": 53,
     "metadata": {},
     "output_type": "execute_result"
    }
   ],
   "source": [
    "vn.train(question='''Which Toyota model has the best combined MPGe rating?'''   ,\n",
    "         sql='''\n",
    "            SELECT \"Model\", \"Year\", \"EPA combined MPGe\"\n",
    "            FROM cars_data\n",
    "            WHERE \"Make\" = 'Toyota' AND \"EPA combined MPGe\" IS NOT NULL\n",
    "            ORDER BY \"EPA combined MPGe\" DESC LIMIT 1;\n",
    "            ''')"
   ]
  },
  {
   "cell_type": "code",
   "execution_count": 54,
   "metadata": {},
   "outputs": [
    {
     "data": {
      "text/plain": [
       "'16527f27-3503-5ea6-a3bd-cebd9d3536a2-sql'"
      ]
     },
     "execution_count": 54,
     "metadata": {},
     "output_type": "execute_result"
    }
   ],
   "source": [
    "vn.train(question='''What is the most recent model year for BMW, Ford, and Toyota?'''   ,\n",
    "         sql='''\n",
    "                SELECT \"Make\", MAX(\"Year\") AS latest_year\n",
    "                FROM cars_data\n",
    "                WHERE \"Make\" IN ('BMW', 'Ford', 'Toyota')\n",
    "                GROUP BY \"Make\";\n",
    "            ''')"
   ]
  },
  {
   "cell_type": "code",
   "execution_count": 55,
   "metadata": {},
   "outputs": [
    {
     "data": {
      "text/plain": [
       "'69515dd1-b50a-57d4-91e8-e2ee55579018-sql'"
      ]
     },
     "execution_count": 55,
     "metadata": {},
     "output_type": "execute_result"
    }
   ],
   "source": [
    "vn.train(question='''How many models from BMW, Ford, and Toyota have an NHTSA Overall Rating of 5?'''   ,\n",
    "         sql='''\n",
    "            SELECT \"Make\", COUNT(*) AS count_5_star_rating\n",
    "            FROM cars_data\n",
    "            WHERE \"Make\" IN ('BMW', 'Ford', 'Toyota') AND \"NHTSA Overall Rating\" = '5'\n",
    "            GROUP BY \"Make\";\n",
    "            ''')"
   ]
  },
  {
   "cell_type": "code",
   "execution_count": 56,
   "metadata": {},
   "outputs": [
    {
     "data": {
      "text/plain": [
       "'b7aea55e-37bb-53ba-95b6-85c0629d633b-sql'"
      ]
     },
     "execution_count": 56,
     "metadata": {},
     "output_type": "execute_result"
    }
   ],
   "source": [
    "vn.train(question='''Which Toyota models have front headroom greater than 40 inches?'''   ,\n",
    "         sql='''\n",
    "            SELECT \"Model\", \"Year\", \"Front head room (in)\"\n",
    "            FROM cars_data\n",
    "            WHERE \"Make\" = 'Toyota' AND \"Front head room (in)\" > 40;\n",
    "            ''')"
   ]
  },
  {
   "cell_type": "code",
   "execution_count": 57,
   "metadata": {},
   "outputs": [
    {
     "data": {
      "text/plain": [
       "'f8952233-8642-51d2-9765-840f279e8b29-sql'"
      ]
     },
     "execution_count": 57,
     "metadata": {},
     "output_type": "execute_result"
    }
   ],
   "source": [
    "vn.train(question='''What is the average battery capacity for electric models of BMW, Ford, and Toyota?'''   ,\n",
    "         sql='''\n",
    "            SELECT \"Make\", AVG(\"Battery capacity (kWh)\") AS avg_battery_capacity\n",
    "            FROM cars_data\n",
    "            WHERE \"Make\" IN ('BMW', 'Ford', 'Toyota') AND \"Battery capacity (kWh)\" IS NOT NULL\n",
    "            GROUP BY \"Make\";\n",
    "            ''')"
   ]
  },
  {
   "cell_type": "code",
   "execution_count": 58,
   "metadata": {},
   "outputs": [
    {
     "data": {
      "text/plain": [
       "'30f342db-109b-5b48-be9b-a8e1ff863a09-sql'"
      ]
     },
     "execution_count": 58,
     "metadata": {},
     "output_type": "execute_result"
    }
   ],
   "source": [
    "vn.train(question='''Which model has the highest expert rating for value among BMW, Ford, and Toyota?'''   ,\n",
    "         sql='''\n",
    "            SELECT \"Make\", \"Model\", \"Year\", \"Expert rating - Value\"\n",
    "            FROM cars_data\n",
    "            WHERE \"Make\" IN ('BMW', 'Ford', 'Toyota')\n",
    "            ORDER BY \"Expert rating - Value\" DESC LIMIT 1;\n",
    "            ''')"
   ]
  },
  {
   "cell_type": "code",
   "execution_count": 59,
   "metadata": {},
   "outputs": [
    {
     "data": {
      "text/plain": [
       "'3418fe81-a97e-5537-bd81-a05011b053c3-sql'"
      ]
     },
     "execution_count": 59,
     "metadata": {},
     "output_type": "execute_result"
    }
   ],
   "source": [
    "vn.train(question='''What is the average MSRP for each body type for BMW, Ford, and Toyota?'''   ,\n",
    "         sql='''\n",
    "            SELECT \"Make\", \"Body type\", AVG(\"Base MSRP\") AS avg_msrp\n",
    "            FROM cars_data\n",
    "            WHERE \"Make\" IN ('BMW', 'Ford', 'Toyota')\n",
    "            GROUP BY \"Make\", \"Body type\"\n",
    "            ORDER BY \"Make\", avg_msrp DESC;\n",
    "            ''')"
   ]
  },
  {
   "cell_type": "code",
   "execution_count": 60,
   "metadata": {},
   "outputs": [
    {
     "data": {
      "text/plain": [
       "'8a4fcfb9-fbfa-5b52-b664-0c5ae81a0ae0-sql'"
      ]
     },
     "execution_count": 60,
     "metadata": {},
     "output_type": "execute_result"
    }
   ],
   "source": [
    "vn.train(question='''Which Toyota models have cargo capacities greater than 50 cu ft?'''   ,\n",
    "         sql='''\n",
    "            SELECT \"Model\", \"Cargo capacity (cu ft)\"\n",
    "            FROM cars_data\n",
    "            WHERE \"Make\" = 'Toyota' AND \"Cargo capacity (cu ft)\" > 50;\n",
    "            ''')"
   ]
  },
  {
   "cell_type": "code",
   "execution_count": 61,
   "metadata": {},
   "outputs": [
    {
     "data": {
      "text/plain": [
       "'b4d26a85-794a-58cd-88b8-63186ade8665-sql'"
      ]
     },
     "execution_count": 61,
     "metadata": {},
     "output_type": "execute_result"
    }
   ],
   "source": [
    "vn.train(question='''What is the average torque (ft-lbs) for BMW, Ford, and Toyota models?'''   ,\n",
    "         sql='''\n",
    "            SELECT \"Make\", AVG(\"Torque (ft-lbs)\") AS avg_torque\n",
    "            FROM cars_data\n",
    "            WHERE \"Make\" IN ('BMW', 'Ford', 'Toyota')\n",
    "            GROUP BY \"Make\";\n",
    "            ''')"
   ]
  },
  {
   "cell_type": "code",
   "execution_count": 62,
   "metadata": {},
   "outputs": [
    {
     "data": {
      "text/plain": [
       "'431b3f23-1e1e-5f1e-aaf7-1ba189ed9df2-sql'"
      ]
     },
     "execution_count": 62,
     "metadata": {},
     "output_type": "execute_result"
    }
   ],
   "source": [
    "vn.train(question='''Which BMW models have 6 cylinders?'''   ,\n",
    "         sql='''\n",
    "            SELECT \"Model\", \"Year\", \"Cylinders\"\n",
    "            FROM cars_data\n",
    "            WHERE \"Make\" = 'BMW' AND \"Cylinders\" = '6';\n",
    "\n",
    "            ''')"
   ]
  },
  {
   "cell_type": "code",
   "execution_count": 63,
   "metadata": {},
   "outputs": [
    {
     "data": {
      "text/plain": [
       "'ce603104-2ba3-598f-b9fb-a2e50a725253-sql'"
      ]
     },
     "execution_count": 63,
     "metadata": {},
     "output_type": "execute_result"
    }
   ],
   "source": [
    "vn.train(question='''What is the maximum towing capacity for BMW, Ford, and Toyota models?'''   ,\n",
    "         sql='''\n",
    "                SELECT \"Make\", MAX(\"Maximum towing capacity (lbs)\") AS max_towing_capacity\n",
    "                FROM cars_data\n",
    "                WHERE \"Make\" IN ('BMW', 'Ford', 'Toyota')\n",
    "                GROUP BY \"Make\";\n",
    "\n",
    "            ''')"
   ]
  },
  {
   "cell_type": "code",
   "execution_count": 64,
   "metadata": {},
   "outputs": [
    {
     "data": {
      "text/plain": [
       "'f446f9aa-38eb-566c-9a55-2fb71890d6f9-sql'"
      ]
     },
     "execution_count": 64,
     "metadata": {},
     "output_type": "execute_result"
    }
   ],
   "source": [
    "vn.train(question='''Which Ford models have a combined MPG greater than 30?'''   ,\n",
    "         sql='''\n",
    "            SELECT \"Model\", \"Year\", \"EPA combined MPG\"\n",
    "            FROM cars_data\n",
    "            WHERE \"Make\" = 'Ford' AND \"EPA combined MPG\" > 30;\n",
    "\n",
    "            ''')"
   ]
  },
  {
   "cell_type": "code",
   "execution_count": 65,
   "metadata": {},
   "outputs": [
    {
     "data": {
      "text/plain": [
       "'aa0ee0c9-2c9f-5f73-9f2e-efcaf82884fe-sql'"
      ]
     },
     "execution_count": 65,
     "metadata": {},
     "output_type": "execute_result"
    }
   ],
   "source": [
    "vn.train(question='''Which BMW model has the largest wheelbase?'''   ,\n",
    "         sql='''\n",
    "            SELECT \"Model\", \"Year\", \"Wheelbase (in)\"\n",
    "            FROM cars_data\n",
    "            WHERE \"Make\" = 'BMW'\n",
    "            ORDER BY \"Wheelbase (in)\" DESC LIMIT 1;\n",
    "            ''')"
   ]
  },
  {
   "cell_type": "code",
   "execution_count": 66,
   "metadata": {},
   "outputs": [
    {
     "data": {
      "text/plain": [
       "'8da43e2d-43fe-5c78-9b61-ed18cea52338-sql'"
      ]
     },
     "execution_count": 66,
     "metadata": {},
     "output_type": "execute_result"
    }
   ],
   "source": [
    "vn.train(question='''What is the average number of doors for BMW, Ford, and Toyota models?'''   ,\n",
    "         sql='''\n",
    "            SELECT \"Make\", AVG(\"Doors\") AS avg_doors\n",
    "            FROM cars_data\n",
    "            WHERE \"Make\" IN ('BMW', 'Ford', 'Toyota')\n",
    "            GROUP BY \"Make\";\n",
    "\n",
    "            ''')"
   ]
  },
  {
   "cell_type": "code",
   "execution_count": 67,
   "metadata": {},
   "outputs": [
    {
     "data": {
      "text/plain": [
       "'72e8a5d5-0c34-5642-96a8-7356f2ce743f-sql'"
      ]
     },
     "execution_count": 67,
     "metadata": {},
     "output_type": "execute_result"
    }
   ],
   "source": [
    "vn.train(question='''Which Toyota models have front shoulder room greater than 60 inches?'''   ,\n",
    "         sql='''\n",
    "            SELECT \"Model\", \"Year\", \"Front shoulder room (in)\"\n",
    "            FROM cars_data\n",
    "            WHERE \"Make\" = 'Toyota' AND \"Front shoulder room (in)\" > 60;\n",
    "\n",
    "            ''')"
   ]
  },
  {
   "cell_type": "code",
   "execution_count": 68,
   "metadata": {},
   "outputs": [
    {
     "data": {
      "text/plain": [
       "'b5ef384f-df71-5dc6-a296-68d9a575b620-sql'"
      ]
     },
     "execution_count": 68,
     "metadata": {},
     "output_type": "execute_result"
    }
   ],
   "source": [
    "vn.train(question='''How many models use hybrid engines for BMW, Ford, and Toyota?'''   ,\n",
    "         sql='''\n",
    "            SELECT \"Make\", COUNT(*) AS hybrid_count\n",
    "            FROM cars_data\n",
    "            WHERE \"Make\" IN ('BMW', 'Ford', 'Toyota') AND \"Engine type\" = 'Hybrid'\n",
    "            GROUP BY \"Make\";\n",
    "            ''')"
   ]
  },
  {
   "cell_type": "code",
   "execution_count": 69,
   "metadata": {},
   "outputs": [
    {
     "data": {
      "text/plain": [
       "'839d335f-23bf-5c55-af49-d98b1dfcf14e-sql'"
      ]
     },
     "execution_count": 69,
     "metadata": {},
     "output_type": "execute_result"
    }
   ],
   "source": [
    "vn.train(question='''Which Toyota model with a manual transmission has the highest MSRP?'''   ,\n",
    "         sql='''\n",
    "            SELECT \"Model\", \"Year\", \"Base MSRP\"\n",
    "            FROM cars_data\n",
    "            WHERE \"Make\" = 'Toyota' AND \"Transmission\" = 'Manual'\n",
    "            ORDER BY \"Base MSRP\" DESC LIMIT 1;\n",
    "\n",
    "            ''')"
   ]
  },
  {
   "cell_type": "code",
   "execution_count": 70,
   "metadata": {},
   "outputs": [
    {
     "data": {
      "text/plain": [
       "'7e3305ef-d018-5328-b37b-0eb043647ca2-sql'"
      ]
     },
     "execution_count": 70,
     "metadata": {},
     "output_type": "execute_result"
    }
   ],
   "source": [
    "vn.train(question='''Which BMW models have a 5-star NHTSA Overall Rating?'''   ,\n",
    "         sql='''\n",
    "            SELECT \"Model\", \"Year\", \"NHTSA Overall Rating\"\n",
    "            FROM cars_data\n",
    "            WHERE \"Make\" = 'BMW' AND \"NHTSA Overall Rating\" = '5';\n",
    "\n",
    "            ''')"
   ]
  },
  {
   "cell_type": "code",
   "execution_count": 71,
   "metadata": {},
   "outputs": [
    {
     "data": {
      "text/plain": [
       "'c7537a6f-2b3f-5eba-ac00-feb48364f99b-sql'"
      ]
     },
     "execution_count": 71,
     "metadata": {},
     "output_type": "execute_result"
    }
   ],
   "source": [
    "vn.train(question='''What is the average interior volume for BMW, Ford, and Toyota cars?'''   ,\n",
    "         sql='''\n",
    "                SELECT \"Make\", AVG(\"EPA interior volume (cu ft)\") AS avg_interior_volume\n",
    "                FROM cars_data\n",
    "                WHERE \"Make\" IN ('BMW', 'Ford', 'Toyota')\n",
    "                GROUP BY \"Make\";\n",
    "\n",
    "            ''')"
   ]
  },
  {
   "cell_type": "code",
   "execution_count": 72,
   "metadata": {},
   "outputs": [
    {
     "data": {
      "text/plain": [
       "'77106668-b2a6-537c-b60d-dcffffc2fa7b-sql'"
      ]
     },
     "execution_count": 72,
     "metadata": {},
     "output_type": "execute_result"
    }
   ],
   "source": [
    "vn.train(question='''Which Ford model has the lowest curb weight?'''   ,\n",
    "         sql='''\n",
    "            SELECT \"Model\", \"Year\", \"Curb weight (lbs)\"\n",
    "            FROM cars_data\n",
    "            WHERE \"Make\" = 'Ford'\n",
    "            ORDER BY \"Curb weight (lbs)\" ASC LIMIT 1;\n",
    "            ''')"
   ]
  },
  {
   "cell_type": "code",
   "execution_count": 73,
   "metadata": {},
   "outputs": [
    {
     "data": {
      "text/plain": [
       "'327d6cce-3079-5cde-8dd6-77f74cd3f9a1-sql'"
      ]
     },
     "execution_count": 73,
     "metadata": {},
     "output_type": "execute_result"
    }
   ],
   "source": [
    "vn.train(question='''Which Toyota models have an EPA electricity range greater than 100 miles?'''   ,\n",
    "         sql='''\n",
    "            SELECT \"Model\", \"Year\", \"EPA electricity range (mi)\"\n",
    "            FROM cars_data\n",
    "            WHERE \"Make\" = 'Toyota' AND \"EPA electricity range (mi)\" > 100;\n",
    "\n",
    "            ''')"
   ]
  },
  {
   "cell_type": "code",
   "execution_count": 74,
   "metadata": {},
   "outputs": [
    {
     "data": {
      "text/plain": [
       "'56a4da44-7fac-5a97-a0e7-3f73228fb2c0-sql'"
      ]
     },
     "execution_count": 74,
     "metadata": {},
     "output_type": "execute_result"
    }
   ],
   "source": [
    "vn.train(question='''What is the average front and rear legroom for BMW, Ford, and Toyota cars?'''   ,\n",
    "         sql='''\n",
    "            SELECT \"Make\", AVG(\"Front leg room (in)\") AS avg_front_legroom, AVG(\"Rear leg room (in)\") AS avg_rear_legroom\n",
    "            FROM cars_data\n",
    "            WHERE \"Make\" IN ('BMW', 'Ford', 'Toyota')\n",
    "            GROUP BY \"Make\";\n",
    "\n",
    "                        ''')"
   ]
  },
  {
   "cell_type": "code",
   "execution_count": 75,
   "metadata": {},
   "outputs": [
    {
     "data": {
      "text/plain": [
       "'a1798119-fe47-5003-9157-2f6abce63a2e-sql'"
      ]
     },
     "execution_count": 75,
     "metadata": {},
     "output_type": "execute_result"
    }
   ],
   "source": [
    "vn.train(question='''Which Ford models have torque greater than 400 ft-lbs?'''   ,\n",
    "         sql='''\n",
    "                SELECT \"Model\", \"Year\", \"Torque (ft-lbs)\"\n",
    "                FROM cars_data\n",
    "                WHERE \"Make\" = 'Ford' AND \"Torque (ft-lbs)\" > 400;\n",
    "       ''')"
   ]
  },
  {
   "cell_type": "code",
   "execution_count": 76,
   "metadata": {},
   "outputs": [
    {
     "data": {
      "text/plain": [
       "'7de6e338-f5c7-5c5a-b34f-b27c937451a7-sql'"
      ]
     },
     "execution_count": 76,
     "metadata": {},
     "output_type": "execute_result"
    }
   ],
   "source": [
    "vn.train(question='''What is the average ground clearance for BMW, Ford, and Toyota models?'''   ,\n",
    "         sql='''\n",
    "            SELECT \"Make\", AVG(\"Ground clearance (in)\") AS avg_ground_clearance\n",
    "            FROM cars_data\n",
    "            WHERE \"Make\" IN ('BMW', 'Ford', 'Toyota')\n",
    "            GROUP BY \"Make\";\n",
    "\n",
    "       ''')"
   ]
  },
  {
   "cell_type": "code",
   "execution_count": 77,
   "metadata": {},
   "outputs": [
    {
     "data": {
      "text/plain": [
       "'69c7b592-2569-5920-8c98-5d3492366bf8-sql'"
      ]
     },
     "execution_count": 77,
     "metadata": {},
     "output_type": "execute_result"
    }
   ],
   "source": [
    "vn.train(question='''Which BMW model has the highest fuel tank capacity?'''   ,\n",
    "         sql='''\n",
    "            SELECT \"Model\", \"Year\", \"Fuel tank capacity (gal)\"\n",
    "            FROM cars_data\n",
    "            WHERE \"Make\" = 'BMW'\n",
    "            ORDER BY \"Fuel tank capacity (gal)\" DESC LIMIT 1;\n",
    "\n",
    "       ''')"
   ]
  },
  {
   "cell_type": "code",
   "execution_count": 78,
   "metadata": {},
   "outputs": [
    {
     "data": {
      "text/plain": [
       "'5ae658c6-affc-5da3-9229-c48b811caec5-sql'"
      ]
     },
     "execution_count": 78,
     "metadata": {},
     "output_type": "execute_result"
    }
   ],
   "source": [
    "vn.train(question='''Which Toyota models have a cargo capacity greater than 70 cu ft?'''   ,\n",
    "         sql='''\n",
    "            SELECT \"Model\", \"Year\", \"Cargo capacity (cu ft)\"\n",
    "            FROM cars_data\n",
    "            WHERE \"Make\" = 'Toyota' AND \"Cargo capacity (cu ft)\" > 70;\n",
    "\n",
    "       ''')"
   ]
  },
  {
   "cell_type": "code",
   "execution_count": 79,
   "metadata": {},
   "outputs": [
    {
     "data": {
      "text/plain": [
       "'e1a70cc8-30ef-5e18-934f-38eb211d50af-sql'"
      ]
     },
     "execution_count": 79,
     "metadata": {},
     "output_type": "execute_result"
    }
   ],
   "source": [
    "vn.train(question='''What is the most recent Ford model with rear-wheel drive?'''   ,\n",
    "         sql='''\n",
    "            SELECT \"Model\", \"Year\", \"Drive type\"\n",
    "            FROM cars_data\n",
    "            WHERE \"Make\" = 'Ford' AND \"Drive type\" = 'Rear-wheel drive'\n",
    "            ORDER BY \"Year\" DESC LIMIT 1;\n",
    "\n",
    "       ''')"
   ]
  },
  {
   "cell_type": "code",
   "execution_count": 80,
   "metadata": {},
   "outputs": [
    {
     "data": {
      "text/plain": [
       "'037e5605-3c9b-5ecb-b9b6-159e2d941c44-sql'"
      ]
     },
     "execution_count": 80,
     "metadata": {},
     "output_type": "execute_result"
    }
   ],
   "source": [
    "vn.train(question='''What is the maximum seating capacity for BMW, Ford, and Toyota vehicles?'''   ,\n",
    "         sql='''\n",
    "            SELECT \"Make\", MAX(\"Total seating\") AS max_seating\n",
    "            FROM cars_data\n",
    "            WHERE \"Make\" IN ('BMW', 'Ford', 'Toyota')\n",
    "            GROUP BY \"Make\";\n",
    "\n",
    "       ''')"
   ]
  },
  {
   "cell_type": "code",
   "execution_count": 81,
   "metadata": {},
   "outputs": [
    {
     "data": {
      "text/plain": [
       "'85f2bbbe-355f-524c-80e6-cdf3041be031-sql'"
      ]
     },
     "execution_count": 81,
     "metadata": {},
     "output_type": "execute_result"
    }
   ],
   "source": [
    "vn.train(question='''Which BMW models have a maximum'''   ,\n",
    "         sql='''\n",
    "            SELECT \"Model\", \"Year\", \"Maximum payload (lbs)\"\n",
    "            FROM cars_data\n",
    "            WHERE \"Make\" = 'BMW' AND \"Maximum payload (lbs)\" > 2000;\n",
    "       ''')"
   ]
  },
  {
   "cell_type": "code",
   "execution_count": 82,
   "metadata": {},
   "outputs": [
    {
     "data": {
      "text/plain": [
       "'e4e07256-2f53-59b2-8da2-7c135c61f099-sql'"
      ]
     },
     "execution_count": 82,
     "metadata": {},
     "output_type": "execute_result"
    }
   ],
   "source": [
    "vn.train(question='''What is the average front headroom for BMW, Ford, and Toyota cars?'''   ,\n",
    "         sql='''\n",
    "            SELECT \"Make\", AVG(\"Front head room (in)\") AS avg_front_headroom\n",
    "            FROM cars_data\n",
    "            WHERE \"Make\" IN ('BMW', 'Ford', 'Toyota')\n",
    "            GROUP BY \"Make\";\n",
    "\n",
    "       ''')"
   ]
  },
  {
   "cell_type": "code",
   "execution_count": 83,
   "metadata": {},
   "outputs": [
    {
     "data": {
      "text/plain": [
       "'b921a1fe-b65f-515d-aa1c-8a5ca82be5c2-sql'"
      ]
     },
     "execution_count": 83,
     "metadata": {},
     "output_type": "execute_result"
    }
   ],
   "source": [
    "vn.train(question='''Which Ford model has the highest expert rating for safety?'''   ,\n",
    "         sql='''\n",
    "            SELECT \"Model\", \"Year\", \"Expert rating - Safety\"\n",
    "            FROM cars_data\n",
    "            WHERE \"Make\" = 'Ford'\n",
    "            ORDER BY \"Expert rating - Safety\" DESC LIMIT 1;\n",
    "       ''')"
   ]
  },
  {
   "cell_type": "code",
   "execution_count": 84,
   "metadata": {},
   "outputs": [
    {
     "data": {
      "text/plain": [
       "'07af53a7-c52e-5a3f-b254-b0bfc9f120bb-sql'"
      ]
     },
     "execution_count": 84,
     "metadata": {},
     "output_type": "execute_result"
    }
   ],
   "source": [
    "vn.train(question='''Which Toyota models have 4-cylinder engines and combined MPG greater than 25?'''   ,\n",
    "         sql='''\n",
    "            SELECT \"Model\", \"Year\", \"Cylinders\", \"EPA combined MPG\"\n",
    "            FROM cars_data\n",
    "            WHERE \"Make\" = 'Toyota' AND \"Cylinders\" = '4' AND \"EPA combined MPG\" > 25;\n",
    "\n",
    "       ''')"
   ]
  },
  {
   "cell_type": "code",
   "execution_count": 85,
   "metadata": {},
   "outputs": [
    {
     "data": {
      "text/plain": [
       "'97fe9df0-120d-5625-9176-b612b7483254-sql'"
      ]
     },
     "execution_count": 85,
     "metadata": {},
     "output_type": "execute_result"
    }
   ],
   "source": [
    "vn.train(question='''Which BMW model has the highest rear headroom?'''   ,\n",
    "         sql='''\n",
    "            SELECT \"Model\", \"Year\", \"Rear head room (in)\"\n",
    "            FROM cars_data\n",
    "            WHERE \"Make\" = 'BMW'\n",
    "            ORDER BY \"Rear head room (in)\" DESC LIMIT 1;\n",
    "       ''')"
   ]
  },
  {
   "cell_type": "code",
   "execution_count": 86,
   "metadata": {},
   "outputs": [
    {
     "data": {
      "text/plain": [
       "'7d2d8dad-1722-5a77-89ad-f35a82687f8a-sql'"
      ]
     },
     "execution_count": 86,
     "metadata": {},
     "output_type": "execute_result"
    }
   ],
   "source": [
    "vn.train(question='''What is the horsepower-to-curb-weight ratio for BMW, Ford, and Toyota cars?'''   ,\n",
    "         sql='''\n",
    "        SELECT \"Make\", AVG(\"Horsepower (HP)\") / AVG(\"Curb weight (lbs)\") AS hp_to_weight_ratio\n",
    "        FROM cars_data\n",
    "        WHERE \"Make\" IN ('BMW', 'Ford', 'Toyota')\n",
    "        GROUP BY \"Make\";\n",
    "\n",
    "       ''')"
   ]
  },
  {
   "cell_type": "code",
   "execution_count": 87,
   "metadata": {},
   "outputs": [
    {
     "data": {
      "text/plain": [
       "'11772a7a-a221-5330-8bdf-b586faa36ad5-sql'"
      ]
     },
     "execution_count": 87,
     "metadata": {},
     "output_type": "execute_result"
    }
   ],
   "source": [
    "vn.train(question='''Which Toyota models have 7 or more seats?'''   ,\n",
    "         sql='''\n",
    "            SELECT \"Model\", \"Year\", \"Total seating\"\n",
    "            FROM cars_data\n",
    "            WHERE \"Make\" = 'Toyota' AND \"Total seating\" >= 7;\n",
    "       ''')"
   ]
  },
  {
   "cell_type": "code",
   "execution_count": 88,
   "metadata": {},
   "outputs": [
    {
     "data": {
      "text/plain": [
       "'518dcb0a-a9ce-5fba-9c7b-fcfd4b71d11e-sql'"
      ]
     },
     "execution_count": 88,
     "metadata": {},
     "output_type": "execute_result"
    }
   ],
   "source": [
    "vn.train(question='''What is the average drag coefficient for BMW, Ford, and Toyota cars?'''   ,\n",
    "         sql='''\n",
    "            SELECT \"Make\", AVG(\"Drag coefficient (Cd)\") AS avg_drag_coefficient\n",
    "            FROM cars_data\n",
    "            WHERE \"Make\" IN ('BMW', 'Ford', 'Toyota')\n",
    "            GROUP BY \"Make\";\n",
    "\n",
    "       ''')"
   ]
  },
  {
   "cell_type": "code",
   "execution_count": 89,
   "metadata": {},
   "outputs": [
    {
     "data": {
      "text/plain": [
       "'ba358524-9a4f-57cf-a977-685a78ec4e19-sql'"
      ]
     },
     "execution_count": 89,
     "metadata": {},
     "output_type": "execute_result"
    }
   ],
   "source": [
    "vn.train(question='''Which Toyota models have the highest horsepower-to-weight ratio?'''   ,\n",
    "         sql='''\n",
    "            SELECT \"Model\", \"Year\", \"Horsepower (HP)\", \"Curb weight (lbs)\", \n",
    "                (\"Horsepower (HP)\" / \"Curb weight (lbs)\") AS hp_to_weight_ratio\n",
    "            FROM cars_data\n",
    "            WHERE \"Make\" = 'Toyota'\n",
    "            ORDER BY hp_to_weight_ratio DESC LIMIT 5;\n",
    "\n",
    "       ''')"
   ]
  },
  {
   "cell_type": "code",
   "execution_count": 90,
   "metadata": {},
   "outputs": [
    {
     "data": {
      "text/plain": [
       "'52f4e41c-76e8-5893-aaf3-fd11d4058bc1-sql'"
      ]
     },
     "execution_count": 90,
     "metadata": {},
     "output_type": "execute_result"
    }
   ],
   "source": [
    "vn.train(question='''What is the difference in average MPG between hybrid and non-hybrid models for BMW, Ford, and Toyota?'''   ,\n",
    "         sql='''\n",
    "        SELECT \"Make\", \"Engine type\", AVG(\"EPA combined MPG\") AS avg_mpg\n",
    "        FROM cars_data\n",
    "        WHERE \"Make\" IN ('BMW', 'Ford', 'Toyota') \n",
    "        GROUP BY \"Make\", \"Engine type\"\n",
    "        ORDER BY \"Make\", avg_mpg DESC;\n",
    "\n",
    "       ''')"
   ]
  },
  {
   "cell_type": "code",
   "execution_count": 91,
   "metadata": {},
   "outputs": [
    {
     "data": {
      "text/plain": [
       "'2c27c23c-c040-5612-9bd9-deca2c03dce6-sql'"
      ]
     },
     "execution_count": 91,
     "metadata": {},
     "output_type": "execute_result"
    }
   ],
   "source": [
    "vn.train(question='''Which Ford models have the smallest turning circle?'''   ,\n",
    "         sql='''\n",
    "            SELECT \"Model\", \"Year\", \"Turning circle (ft)\"\n",
    "            FROM cars_data\n",
    "            WHERE \"Make\" = 'Ford'\n",
    "            ORDER BY \"Turning circle (ft)\" ASC LIMIT 5;\n",
    "\n",
    "       ''')"
   ]
  },
  {
   "cell_type": "code",
   "execution_count": 92,
   "metadata": {},
   "outputs": [
    {
     "data": {
      "text/plain": [
       "'0f87e61b-dc0c-5ee8-a44f-f825a9053bcc-sql'"
      ]
     },
     "execution_count": 92,
     "metadata": {},
     "output_type": "execute_result"
    }
   ],
   "source": [
    "vn.train(question='''What is the average number of valves per engine for BMW, Ford, and Toyota?'''   ,\n",
    "         sql='''\n",
    "        SELECT \"Make\", AVG(\"Valves\") AS avg_valves\n",
    "        FROM cars_data\n",
    "        WHERE \"Make\" IN ('BMW', 'Ford', 'Toyota')\n",
    "        GROUP BY \"Make\";\n",
    "\n",
    "       ''')"
   ]
  },
  {
   "cell_type": "code",
   "execution_count": 93,
   "metadata": {},
   "outputs": [
    {
     "data": {
      "text/plain": [
       "'7abdf8c6-fe2b-5595-9f1e-5dbf378cb094-sql'"
      ]
     },
     "execution_count": 93,
     "metadata": {},
     "output_type": "execute_result"
    }
   ],
   "source": [
    "vn.train(question='''Which Ford vehicles are the longest in length?'''   ,\n",
    "         sql='''\n",
    "            SELECT \"Model\", \"Year\", \"Length (in)\"\n",
    "            FROM cars_data\n",
    "            WHERE \"Make\" = 'Ford'\n",
    "            ORDER BY \"Length (in)\" DESC LIMIT 5;\n",
    "\n",
    "       ''')"
   ]
  },
  {
   "cell_type": "code",
   "execution_count": 94,
   "metadata": {},
   "outputs": [
    {
     "data": {
      "text/plain": [
       "'1c715d47-18e9-5504-9657-92100f11a9ed-sql'"
      ]
     },
     "execution_count": 94,
     "metadata": {},
     "output_type": "execute_result"
    }
   ],
   "source": [
    "vn.train(question='''Which Toyota models have a drag coefficient of less than 0.30?'''   ,\n",
    "         sql='''\n",
    "            SELECT \"Model\", \"Year\", \"Drag coefficient (Cd)\"\n",
    "            FROM cars_data\n",
    "            WHERE \"Make\" = 'Toyota' AND \"Drag coefficient (Cd)\" < 0.30;\n",
    "\n",
    "       ''')"
   ]
  },
  {
   "cell_type": "code",
   "execution_count": 95,
   "metadata": {},
   "outputs": [
    {
     "data": {
      "text/plain": [
       "'4658b53c-cf01-5e13-9d58-76b35f79a095-sql'"
      ]
     },
     "execution_count": 95,
     "metadata": {},
     "output_type": "execute_result"
    }
   ],
   "source": [
    "vn.train(question='''What is the average towing capacity of SUVs for BMW, Ford, and Toyota?'''   ,\n",
    "         sql='''\n",
    "SELECT \"Make\", AVG(\"Maximum towing capacity (lbs)\") AS avg_towing_capacity\n",
    "FROM cars_data\n",
    "WHERE \"Make\" IN ('BMW', 'Ford', 'Toyota') AND \"Body type\" = 'SUV'\n",
    "GROUP BY \"Make\";\n",
    "\n",
    "       ''')"
   ]
  },
  {
   "cell_type": "code",
   "execution_count": 96,
   "metadata": {},
   "outputs": [
    {
     "data": {
      "text/plain": [
       "'974094d9-abff-5241-9253-a4c3b90eff7b-sql'"
      ]
     },
     "execution_count": 96,
     "metadata": {},
     "output_type": "execute_result"
    }
   ],
   "source": [
    "vn.train(question='''Which BMW electric vehicles have the highest combined EPA MPGe?'''   ,\n",
    "         sql='''\n",
    "SELECT \"Model\", \"Year\", \"EPA combined MPGe\"\n",
    "FROM cars_data\n",
    "WHERE \"Make\" = 'BMW' AND \"EPA combined MPGe\" IS NOT NULL\n",
    "ORDER BY \"EPA combined MPGe\" DESC LIMIT 5;\n",
    "\n",
    "       ''')"
   ]
  },
  {
   "cell_type": "code",
   "execution_count": 97,
   "metadata": {},
   "outputs": [
    {
     "data": {
      "text/plain": [
       "'7d2016bd-ed4b-551d-9094-757134273716-sql'"
      ]
     },
     "execution_count": 97,
     "metadata": {},
     "output_type": "execute_result"
    }
   ],
   "source": [
    "vn.train(question='''What is the average fuel tank capacity for BMW, Ford, and Toyota models?'''   ,\n",
    "         sql='''\n",
    "SELECT \"Make\", AVG(\"Fuel tank capacity (gal)\") AS avg_fuel_tank_capacity\n",
    "FROM cars_data\n",
    "WHERE \"Make\" IN ('BMW', 'Ford', 'Toyota')\n",
    "GROUP BY \"Make\";\n",
    "\n",
    "       ''')"
   ]
  },
  {
   "cell_type": "code",
   "execution_count": 98,
   "metadata": {},
   "outputs": [
    {
     "data": {
      "text/plain": [
       "'77a3df87-58f2-54c8-bbfe-042305a12afa-sql'"
      ]
     },
     "execution_count": 98,
     "metadata": {},
     "output_type": "execute_result"
    }
   ],
   "source": [
    "vn.train(question='''Which Ford models have over 300 horsepower and more than 30 combined MPG?'''   ,\n",
    "         sql='''\n",
    "SELECT \"Model\", \"Year\", \"Horsepower (HP)\", \"EPA combined MPG\"\n",
    "FROM cars_data\n",
    "WHERE \"Make\" = 'Ford' AND \"Horsepower (HP)\" > 300 AND \"EPA combined MPG\" > 30;\n",
    "\n",
    "       ''')"
   ]
  },
  {
   "cell_type": "code",
   "execution_count": 99,
   "metadata": {},
   "outputs": [
    {
     "data": {
      "text/plain": [
       "'f220a2e5-11e9-5a39-8b88-4d417476bc21-sql'"
      ]
     },
     "execution_count": 99,
     "metadata": {},
     "output_type": "execute_result"
    }
   ],
   "source": [
    "vn.train(question='''Which Toyota models have the highest EPA interior volume?'''   ,\n",
    "         sql='''\n",
    "SELECT \"Model\", \"Year\", \"EPA interior volume (cu ft)\"\n",
    "FROM cars_data\n",
    "WHERE \"Make\" = 'Toyota'\n",
    "ORDER BY \"EPA interior volume (cu ft)\" DESC LIMIT 5;\n",
    "\n",
    "       ''')"
   ]
  },
  {
   "cell_type": "code",
   "execution_count": 100,
   "metadata": {},
   "outputs": [
    {
     "data": {
      "text/plain": [
       "'b724974e-eeaf-5dc0-8cea-382cd16bb05b-sql'"
      ]
     },
     "execution_count": 100,
     "metadata": {},
     "output_type": "execute_result"
    }
   ],
   "source": [
    "vn.train(question='''What is the average height of sedans for BMW, Ford, and Toyota?'''   ,\n",
    "         sql='''\n",
    "SELECT \"Make\", AVG(\"Height (in)\") AS avg_height\n",
    "FROM cars_data\n",
    "WHERE \"Make\" IN ('BMW', 'Ford', 'Toyota') AND \"Body type\" = 'Sedan'\n",
    "GROUP BY \"Make\";\n",
    "\n",
    "       ''')"
   ]
  },
  {
   "cell_type": "code",
   "execution_count": 101,
   "metadata": {},
   "outputs": [
    {
     "data": {
      "text/plain": [
       "'ef852607-2999-5043-9a33-a758f24b3cad-sql'"
      ]
     },
     "execution_count": 101,
     "metadata": {},
     "output_type": "execute_result"
    }
   ],
   "source": [
    "vn.train(question='''Which Toyota models are the heaviest by curb weight?'''   ,\n",
    "         sql='''\n",
    "SELECT \"Model\", \"Year\", \"Curb weight (lbs)\"\n",
    "FROM cars_data\n",
    "WHERE \"Make\" = 'Toyota'\n",
    "ORDER BY \"Curb weight (lbs)\" DESC LIMIT 5;\n",
    "\n",
    "       ''')"
   ]
  },
  {
   "cell_type": "code",
   "execution_count": 102,
   "metadata": {},
   "outputs": [
    {
     "data": {
      "text/plain": [
       "'f046851c-4672-55ba-9a3c-d5d48cdb5c7b-sql'"
      ]
     },
     "execution_count": 102,
     "metadata": {},
     "output_type": "execute_result"
    }
   ],
   "source": [
    "vn.train(question='''Which BMW models have a wheelbase longer than 115 inches?'''   ,\n",
    "         sql='''\n",
    "SELECT \"Model\", \"Year\", \"Wheelbase (in)\"\n",
    "FROM cars_data\n",
    "WHERE \"Make\" = 'BMW' AND \"Wheelbase (in)\" > 115;\n",
    "\n",
    "       ''')"
   ]
  },
  {
   "cell_type": "code",
   "execution_count": 103,
   "metadata": {},
   "outputs": [
    {
     "data": {
      "text/plain": [
       "'d66e6001-083d-5125-9d08-d46cc3216ec4-sql'"
      ]
     },
     "execution_count": 103,
     "metadata": {},
     "output_type": "execute_result"
    }
   ],
   "source": [
    "vn.train(question='''What is the average engine size for BMW, Ford, and Toyota?'''   ,\n",
    "         sql='''\n",
    "SELECT \"Make\", AVG(\"Engine size (l)\") AS avg_engine_size\n",
    "FROM cars_data\n",
    "WHERE \"Make\" IN ('BMW', 'Ford', 'Toyota')\n",
    "GROUP BY \"Make\";\n",
    "\n",
    "       ''')"
   ]
  },
  {
   "cell_type": "code",
   "execution_count": 104,
   "metadata": {},
   "outputs": [
    {
     "data": {
      "text/plain": [
       "'d43fe29d-572f-503d-a67a-d276e80906ea-sql'"
      ]
     },
     "execution_count": 104,
     "metadata": {},
     "output_type": "execute_result"
    }
   ],
   "source": [
    "vn.train(question='''Which Toyota models have the lowest drag coefficient?'''   ,\n",
    "         sql='''\n",
    "SELECT \"Model\", \"Year\", \"Drag coefficient (Cd)\"\n",
    "FROM cars_data\n",
    "WHERE \"Make\" = 'Toyota'\n",
    "ORDER BY \"Drag coefficient (Cd)\" ASC LIMIT 5;\n",
    "\n",
    "       ''')"
   ]
  },
  {
   "cell_type": "code",
   "execution_count": 105,
   "metadata": {},
   "outputs": [
    {
     "data": {
      "text/plain": [
       "'344d3e2d-c56c-5784-8ebc-a03cdd8d132c-sql'"
      ]
     },
     "execution_count": 105,
     "metadata": {},
     "output_type": "execute_result"
    }
   ],
   "source": [
    "vn.train(question='''Which Ford models have torque greater than 500 ft-lbs?'''   ,\n",
    "         sql='''\n",
    "SELECT \"Model\", \"Year\", \"Torque (ft-lbs)\"\n",
    "FROM cars_data\n",
    "WHERE \"Make\" = 'Ford' AND \"Torque (ft-lbs)\" > 500;\n",
    "\n",
    "       ''')"
   ]
  },
  {
   "cell_type": "code",
   "execution_count": 106,
   "metadata": {},
   "outputs": [
    {
     "data": {
      "text/plain": [
       "'f5901ad0-61a9-5b47-a4f7-73386b2d78d3-sql'"
      ]
     },
     "execution_count": 106,
     "metadata": {},
     "output_type": "execute_result"
    }
   ],
   "source": [
    "vn.train(question='''How many models have all-wheel drive for BMW, Ford, and Toyota?'''   ,\n",
    "         sql='''\n",
    "SELECT \"Make\", COUNT(*) AS awd_count\n",
    "FROM cars_data\n",
    "WHERE \"Make\" IN ('BMW', 'Ford', 'Toyota') AND \"Drive type\" = 'All-wheel drive'\n",
    "GROUP BY \"Make\";\n",
    "\n",
    "       ''')"
   ]
  },
  {
   "cell_type": "code",
   "execution_count": 107,
   "metadata": {},
   "outputs": [
    {
     "data": {
      "text/plain": [
       "'a53c11e9-c0d8-57ae-82fb-0d13e5cdd3e2-sql'"
      ]
     },
     "execution_count": 107,
     "metadata": {},
     "output_type": "execute_result"
    }
   ],
   "source": [
    "vn.train(question=''' Which Toyota electric vehicles have the longest range?'''   ,\n",
    "         sql='''\n",
    "SELECT \"Model\", \"Year\", \"EPA electricity range (mi)\"\n",
    "FROM cars_data\n",
    "WHERE \"Make\" = 'Toyota'\n",
    "ORDER BY \"EPA electricity range (mi)\" DESC LIMIT 5;\n",
    "\n",
    "       ''')"
   ]
  },
  {
   "cell_type": "code",
   "execution_count": 108,
   "metadata": {},
   "outputs": [
    {
     "data": {
      "text/plain": [
       "'669c8c05-4b7b-5039-8f69-469bf8cbf3fe-sql'"
      ]
     },
     "execution_count": 108,
     "metadata": {},
     "output_type": "execute_result"
    }
   ],
   "source": [
    "vn.train(question=''' Which Toyota models have 8-cylinder engines?'''   ,\n",
    "         sql='''\n",
    "SELECT \"Model\", \"Year\", \"Cylinders\"\n",
    "FROM cars_data\n",
    "WHERE \"Make\" = 'Toyota' AND \"Cylinders\" = '8';\n",
    "\n",
    "       ''')"
   ]
  },
  {
   "cell_type": "code",
   "execution_count": 109,
   "metadata": {},
   "outputs": [
    {
     "data": {
      "text/html": [
       "<div>\n",
       "<style scoped>\n",
       "    .dataframe tbody tr th:only-of-type {\n",
       "        vertical-align: middle;\n",
       "    }\n",
       "\n",
       "    .dataframe tbody tr th {\n",
       "        vertical-align: top;\n",
       "    }\n",
       "\n",
       "    .dataframe thead th {\n",
       "        text-align: right;\n",
       "    }\n",
       "</style>\n",
       "<table border=\"1\" class=\"dataframe\">\n",
       "  <thead>\n",
       "    <tr style=\"text-align: right;\">\n",
       "      <th></th>\n",
       "      <th>id</th>\n",
       "      <th>question</th>\n",
       "      <th>content</th>\n",
       "      <th>training_data_type</th>\n",
       "    </tr>\n",
       "  </thead>\n",
       "  <tbody>\n",
       "    <tr>\n",
       "      <th>0</th>\n",
       "      <td>69dc9d5f-58b7-5416-85b8-b257862b2752-sql</td>\n",
       "      <td>What are the different car makes in the dataset?</td>\n",
       "      <td>SELECT DISTINCT \"Make\" FROM cars_data;</td>\n",
       "      <td>sql</td>\n",
       "    </tr>\n",
       "    <tr>\n",
       "      <th>1</th>\n",
       "      <td>59a1827f-92b0-5782-b2ed-8206d8c4f33c-sql</td>\n",
       "      <td>How many cars are available for each make?</td>\n",
       "      <td>SELECT \"Make\", COUNT(*) AS count FROM cars_dat...</td>\n",
       "      <td>sql</td>\n",
       "    </tr>\n",
       "    <tr>\n",
       "      <th>2</th>\n",
       "      <td>213c6247-a37f-580e-b601-ad998d2c2b6b-sql</td>\n",
       "      <td>Which are the top 5 most expensive cars by bas...</td>\n",
       "      <td>SELECT \"Make\", \"Model\", \"Year\", \"Base MSRP\" FR...</td>\n",
       "      <td>sql</td>\n",
       "    </tr>\n",
       "    <tr>\n",
       "      <th>3</th>\n",
       "      <td>af21e5c9-d2f8-5f01-9c78-4c0236abb5a8-sql</td>\n",
       "      <td>Which cars have a towing capacity greater than...</td>\n",
       "      <td>SELECT \"Make\", \"Model\", \"Year\", \"Maximum towin...</td>\n",
       "      <td>sql</td>\n",
       "    </tr>\n",
       "    <tr>\n",
       "      <th>4</th>\n",
       "      <td>16dda0f8-fbaf-5800-83eb-b100ae7a5722-sql</td>\n",
       "      <td>What is the average horsepower of cars for eac...</td>\n",
       "      <td>SELECT \"Make\", AVG(\"Horsepower (HP)\") AS avg_h...</td>\n",
       "      <td>sql</td>\n",
       "    </tr>\n",
       "    <tr>\n",
       "      <th>...</th>\n",
       "      <td>...</td>\n",
       "      <td>...</td>\n",
       "      <td>...</td>\n",
       "      <td>...</td>\n",
       "    </tr>\n",
       "    <tr>\n",
       "      <th>95</th>\n",
       "      <td>344d3e2d-c56c-5784-8ebc-a03cdd8d132c-sql</td>\n",
       "      <td>Which Ford models have torque greater than 500...</td>\n",
       "      <td>\\nSELECT \"Model\", \"Year\", \"Torque (ft-lbs)\"\\nF...</td>\n",
       "      <td>sql</td>\n",
       "    </tr>\n",
       "    <tr>\n",
       "      <th>96</th>\n",
       "      <td>f5901ad0-61a9-5b47-a4f7-73386b2d78d3-sql</td>\n",
       "      <td>How many models have all-wheel drive for BMW, ...</td>\n",
       "      <td>\\nSELECT \"Make\", COUNT(*) AS awd_count\\nFROM c...</td>\n",
       "      <td>sql</td>\n",
       "    </tr>\n",
       "    <tr>\n",
       "      <th>97</th>\n",
       "      <td>a53c11e9-c0d8-57ae-82fb-0d13e5cdd3e2-sql</td>\n",
       "      <td>Which Toyota electric vehicles have the longe...</td>\n",
       "      <td>\\nSELECT \"Model\", \"Year\", \"EPA electricity ran...</td>\n",
       "      <td>sql</td>\n",
       "    </tr>\n",
       "    <tr>\n",
       "      <th>98</th>\n",
       "      <td>669c8c05-4b7b-5039-8f69-469bf8cbf3fe-sql</td>\n",
       "      <td>Which Toyota models have 8-cylinder engines?</td>\n",
       "      <td>\\nSELECT \"Model\", \"Year\", \"Cylinders\"\\nFROM ca...</td>\n",
       "      <td>sql</td>\n",
       "    </tr>\n",
       "    <tr>\n",
       "      <th>0</th>\n",
       "      <td>1d831f6d-c54f-573e-b868-9ff29858f4b7-ddl</td>\n",
       "      <td>None</td>\n",
       "      <td>\\n        CREATE TABLE \"cars_data\" (\\n        ...</td>\n",
       "      <td>ddl</td>\n",
       "    </tr>\n",
       "  </tbody>\n",
       "</table>\n",
       "<p>100 rows × 4 columns</p>\n",
       "</div>"
      ],
      "text/plain": [
       "                                          id  \\\n",
       "0   69dc9d5f-58b7-5416-85b8-b257862b2752-sql   \n",
       "1   59a1827f-92b0-5782-b2ed-8206d8c4f33c-sql   \n",
       "2   213c6247-a37f-580e-b601-ad998d2c2b6b-sql   \n",
       "3   af21e5c9-d2f8-5f01-9c78-4c0236abb5a8-sql   \n",
       "4   16dda0f8-fbaf-5800-83eb-b100ae7a5722-sql   \n",
       "..                                       ...   \n",
       "95  344d3e2d-c56c-5784-8ebc-a03cdd8d132c-sql   \n",
       "96  f5901ad0-61a9-5b47-a4f7-73386b2d78d3-sql   \n",
       "97  a53c11e9-c0d8-57ae-82fb-0d13e5cdd3e2-sql   \n",
       "98  669c8c05-4b7b-5039-8f69-469bf8cbf3fe-sql   \n",
       "0   1d831f6d-c54f-573e-b868-9ff29858f4b7-ddl   \n",
       "\n",
       "                                             question  \\\n",
       "0    What are the different car makes in the dataset?   \n",
       "1          How many cars are available for each make?   \n",
       "2   Which are the top 5 most expensive cars by bas...   \n",
       "3   Which cars have a towing capacity greater than...   \n",
       "4   What is the average horsepower of cars for eac...   \n",
       "..                                                ...   \n",
       "95  Which Ford models have torque greater than 500...   \n",
       "96  How many models have all-wheel drive for BMW, ...   \n",
       "97   Which Toyota electric vehicles have the longe...   \n",
       "98       Which Toyota models have 8-cylinder engines?   \n",
       "0                                                None   \n",
       "\n",
       "                                              content training_data_type  \n",
       "0              SELECT DISTINCT \"Make\" FROM cars_data;                sql  \n",
       "1   SELECT \"Make\", COUNT(*) AS count FROM cars_dat...                sql  \n",
       "2   SELECT \"Make\", \"Model\", \"Year\", \"Base MSRP\" FR...                sql  \n",
       "3   SELECT \"Make\", \"Model\", \"Year\", \"Maximum towin...                sql  \n",
       "4   SELECT \"Make\", AVG(\"Horsepower (HP)\") AS avg_h...                sql  \n",
       "..                                                ...                ...  \n",
       "95  \\nSELECT \"Model\", \"Year\", \"Torque (ft-lbs)\"\\nF...                sql  \n",
       "96  \\nSELECT \"Make\", COUNT(*) AS awd_count\\nFROM c...                sql  \n",
       "97  \\nSELECT \"Model\", \"Year\", \"EPA electricity ran...                sql  \n",
       "98  \\nSELECT \"Model\", \"Year\", \"Cylinders\"\\nFROM ca...                sql  \n",
       "0   \\n        CREATE TABLE \"cars_data\" (\\n        ...                ddl  \n",
       "\n",
       "[100 rows x 4 columns]"
      ]
     },
     "execution_count": 109,
     "metadata": {},
     "output_type": "execute_result"
    }
   ],
   "source": [
    "vn.get_training_data()"
   ]
  },
  {
   "cell_type": "code",
   "execution_count": null,
   "metadata": {},
   "outputs": [],
   "source": []
  },
  {
   "cell_type": "code",
   "execution_count": null,
   "metadata": {},
   "outputs": [],
   "source": []
  },
  {
   "cell_type": "code",
   "execution_count": null,
   "metadata": {},
   "outputs": [],
   "source": []
  }
 ],
 "metadata": {
  "kernelspec": {
   "display_name": "vannaenv",
   "language": "python",
   "name": "python3"
  },
  "language_info": {
   "codemirror_mode": {
    "name": "ipython",
    "version": 3
   },
   "file_extension": ".py",
   "mimetype": "text/x-python",
   "name": "python",
   "nbconvert_exporter": "python",
   "pygments_lexer": "ipython3",
   "version": "3.11.9"
  }
 },
 "nbformat": 4,
 "nbformat_minor": 2
}
